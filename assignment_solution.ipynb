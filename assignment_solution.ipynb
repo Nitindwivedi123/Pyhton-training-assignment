{
 "cells": [
  {
   "cell_type": "code",
   "execution_count": 15,
   "metadata": {},
   "outputs": [
    {
     "name": "stdout",
     "output_type": "stream",
     "text": [
      "Enter string:\n",
      "abcdef\n",
      "\n",
      "Enter the given character:\n",
      "e\n",
      "abcdf\n"
     ]
    }
   ],
   "source": [
    "# Q.1>\n",
    "print(\"Enter string:\")\n",
    "inp_str=input()\n",
    "print(inp_str)\n",
    "print(\"\\nEnter the given character:\")\n",
    "giv_cha=input()\n",
    "print(giv_cha)\n",
    "temp_str=\"\"\n",
    "for i in inp_str:\n",
    "    if i != giv_cha:\n",
    "        temp_str +=i\n",
    "#inp_str=inp_str.replace(giv_cha,\"\")\n",
    "print(temp_str)\n"
   ]
  },
  {
   "cell_type": "code",
   "execution_count": 8,
   "metadata": {},
   "outputs": [
    {
     "name": "stdout",
     "output_type": "stream",
     "text": [
      "String is:abxcd\n",
      "length of string: 5\n"
     ]
    }
   ],
   "source": [
    "# Q.2>\n",
    "inp_str=input()\n",
    "print(\"String is:\"+inp_str+\"\\n\"+\"length of string: \"+ str(len(inp_str)))"
   ]
  },
  {
   "cell_type": "code",
   "execution_count": 9,
   "metadata": {},
   "outputs": [
    {
     "name": "stdout",
     "output_type": "stream",
     "text": [
      "first input:\n",
      "abc\n",
      "Second input:\n",
      "cab\n",
      "Anagram\n"
     ]
    }
   ],
   "source": [
    "# Q.3>\n",
    "print(\"first input:\")\n",
    "str1=input()\n",
    "print(str1)\n",
    "print(\"Second input:\")\n",
    "str2=input()\n",
    "print(str2)\n",
    "temp=0\n",
    "for i in str1:\n",
    "    if i in str2:\n",
    "        temp +=1\n",
    "if len(str1)==temp:\n",
    "    print(\"Anagram\")\n",
    "else:\n",
    "    print(\"Not Anagram\")"
   ]
  },
  {
   "cell_type": "code",
   "execution_count": null,
   "metadata": {},
   "outputs": [
    {
     "name": "stdout",
     "output_type": "stream",
     "text": [
      "first input:\n",
      "aba\n",
      "Pelindrom\n"
     ]
    }
   ],
   "source": [
    "# Q.4>\n",
    "print(\"first input:\")\n",
    "str1=input()\n",
    "print(str1)\n",
    "if str1==str1[::-1]:\n",
    "    print(\"Pelindrom\")\n",
    "else:\n",
    "    print(\"Not pelindrom\")"
   ]
  },
  {
   "cell_type": "code",
   "execution_count": 12,
   "metadata": {},
   "outputs": [
    {
     "name": "stdout",
     "output_type": "stream",
     "text": [
      "Enter a character:\n",
      "A\n",
      "Vowel\n"
     ]
    }
   ],
   "source": [
    "# Q.5>\n",
    "print(\"Enter a character:\")\n",
    "variable=input()\n",
    "print(variable)\n",
    "lis=[\"a\",\"e\",\"i\",\"o\",\"u\",\"A\",\"E\",\"I\",\"O\",\"U\"]\n",
    "if variable in lis:\n",
    "    print(\"Vowel\")\n",
    "else:\n",
    "    print(\"Consonent\")"
   ]
  },
  {
   "cell_type": "code",
   "execution_count": 6,
   "metadata": {},
   "outputs": [
    {
     "name": "stdout",
     "output_type": "stream",
     "text": [
      "Enter a character:\n",
      "1\n",
      "Digit\n"
     ]
    }
   ],
   "source": [
    "# Q.6>\n",
    "print(\"Enter a character:\")\n",
    "variable=input()\n",
    "print(variable)\n",
    "try:\n",
    "    if int(variable):\n",
    "        print(\"Digit\")\n",
    "except:\n",
    "    print(\"Not a digit\")"
   ]
  },
  {
   "cell_type": "code",
   "execution_count": 13,
   "metadata": {},
   "outputs": [
    {
     "name": "stdout",
     "output_type": "stream",
     "text": [
      "Enter a character:\n",
      "s\n",
      "Not a digit\n"
     ]
    }
   ],
   "source": [
    "# Q.7>\n",
    "print(\"Enter a character:\")\n",
    "variable=input()\n",
    "print(variable)\n",
    "if variable.isdigit():\n",
    "    print(\"Digit\")\n",
    "else:\n",
    "    print(\"Not a digit\")"
   ]
  },
  {
   "cell_type": "code",
   "execution_count": 25,
   "metadata": {},
   "outputs": [
    {
     "name": "stdout",
     "output_type": "stream",
     "text": [
      "Enter string:\n",
      "abcd rfg\n",
      "Enter the given character:\n",
      "j\n",
      "abcdjrfg\n"
     ]
    }
   ],
   "source": [
    "# Q.8>\n",
    "print(\"Enter string:\")\n",
    "inp_str=input()\n",
    "print(inp_str)\n",
    "print(\"Enter the given character:\")\n",
    "giv_cha=input()\n",
    "print(giv_cha)\n",
    "temp_str=\"\"\n",
    "for i in inp_str:\n",
    "    if i == \" \":\n",
    "        temp_str += giv_cha\n",
    "    else:\n",
    "        temp_str += i\n",
    "#inp_str=inp_str.replace(giv_cha,\"\")\n",
    "print(temp_str)"
   ]
  },
  {
   "cell_type": "code",
   "execution_count": 18,
   "metadata": {},
   "outputs": [
    {
     "name": "stdout",
     "output_type": "stream",
     "text": [
      "Enter string:\n",
      "abcd frg\n",
      "\n",
      "Enter the given character:\n",
      "@\n",
      "abcd@frg\n"
     ]
    }
   ],
   "source": [
    "# Q.9>\n",
    "print(\"Enter string:\")\n",
    "inp_str=input()\n",
    "print(inp_str)\n",
    "print(\"Enter the given character:\")\n",
    "giv_cha=input()\n",
    "print(giv_cha)\n",
    "inp_str=inp_str.replace(\" \",giv_cha)\n",
    "print(inp_str)"
   ]
  },
  {
   "cell_type": "code",
   "execution_count": 29,
   "metadata": {},
   "outputs": [
    {
     "name": "stdout",
     "output_type": "stream",
     "text": [
      "Enter a string\n",
      "abdSd\n",
      "ABDSD\n"
     ]
    }
   ],
   "source": [
    "# Q.10> \n",
    "print(\"Enter a string\")\n",
    "var_str=input()\n",
    "print(var_str)\n",
    "print(var_str.upper())\n"
   ]
  },
  {
   "cell_type": "code",
   "execution_count": 32,
   "metadata": {},
   "outputs": [
    {
     "name": "stdout",
     "output_type": "stream",
     "text": [
      "Enter a string\n",
      "aeIougttf\n",
      "AEIOUgttf\n"
     ]
    }
   ],
   "source": [
    "# Q.11> \n",
    "print(\"Enter a string\")\n",
    "var_str=input()\n",
    "print(var_str)\n",
    "temp_str=\"\"\n",
    "lis=[\"a\",\"e\",\"i\",\"o\",\"u\",\"A\",\"E\",\"I\",\"O\",\"U\"]\n",
    "for i in var_str:\n",
    "    if i in lis:\n",
    "        if i.islower:\n",
    "            temp_str +=i.upper()\n",
    "        else:\n",
    "            temp_str +=i\n",
    "    else:\n",
    "        temp_str +=i        \n",
    "print(temp_str)\n"
   ]
  },
  {
   "cell_type": "code",
   "execution_count": 36,
   "metadata": {},
   "outputs": [
    {
     "name": "stdout",
     "output_type": "stream",
     "text": [
      "6 is missing\n"
     ]
    }
   ],
   "source": [
    "# Q.12\n",
    "lst=[1,2,3,4,5,7,8,9]\n",
    "temp=min(lst)\n",
    "for i in lst:\n",
    "    if temp in lst:    \n",
    "        temp +=1\n",
    "    else:\n",
    "        print(str(temp)+\" is missing\")\n",
    "        break"
   ]
  },
  {
   "cell_type": "code",
   "execution_count": 51,
   "metadata": {},
   "outputs": [
    {
     "name": "stdout",
     "output_type": "stream",
     "text": [
      "{8, 2} is repeated\n"
     ]
    }
   ],
   "source": [
    "# Q.13\n",
    "lst=[1,2,2,2,3,4,5,7,8,8,9,10,11]\n",
    "lst1=[]\n",
    "for i in lst:\n",
    "    temp=1\n",
    "    for j in lst:\n",
    "        if i == j:\n",
    "            if temp == 1:\n",
    "                temp +=1\n",
    "            else:\n",
    "                lst1.append(i)\n",
    "                break \n",
    "print(str(set(lst1))+\" is repeated\")           \n",
    "            "
   ]
  },
  {
   "cell_type": "code",
   "execution_count": 67,
   "metadata": {},
   "outputs": [
    {
     "name": "stdout",
     "output_type": "stream",
     "text": [
      "Enter the number:\n",
      "7\n",
      "['5,2', '6,1', '4,3']\n"
     ]
    }
   ],
   "source": [
    "# Q.14\n",
    "lst=[5,2,6,4,3,1,8,10,11]\n",
    "print(\"Enter the number:\")\n",
    "var=int(input())\n",
    "pair_lst=[]\n",
    "print(var)\n",
    "for i in range(0,len(lst)):\n",
    "    for j in range(i,len(lst)):\n",
    "        if lst[i] != lst[j]:\n",
    "            if var==lst[i]+lst[j]:\n",
    "                pair_lst.append(str(lst[i])+\",\"+str(lst[j]))\n",
    "\n",
    "print(pair_lst)\n"
   ]
  },
  {
   "cell_type": "code",
   "execution_count": 77,
   "metadata": {},
   "outputs": [
    {
     "name": "stdout",
     "output_type": "stream",
     "text": [
      "Enter first array:\n",
      "['1', '2', '33', '4']\n",
      "Enter second array:\n",
      "['1', '2', '3']\n",
      "Not equal in length\n"
     ]
    }
   ],
   "source": [
    "# Q.15\n",
    "print(\"Enter first array:\")\n",
    "str1=input().split(\",\")\n",
    "print(str1)\n",
    "print(\"Enter second array:\")\n",
    "str2=input().split(\",\")\n",
    "print(str2)\n",
    "if len(str1)==len(str2):\n",
    "    print(\"Equal in length\")\n",
    "else:\n",
    "    print(\"Not equal in length\")"
   ]
  },
  {
   "cell_type": "code",
   "execution_count": 79,
   "metadata": {},
   "outputs": [
    {
     "name": "stdout",
     "output_type": "stream",
     "text": [
      "Enter array:\n",
      "['1', '2', '3', '4']\n",
      "Maximum value:4\n",
      "Minimum value:1\n"
     ]
    }
   ],
   "source": [
    "# Q.16\n",
    "print(\"Enter array:\")\n",
    "var=input().split(\",\")\n",
    "print(var)\n",
    "print(\"Maximum value:\"+str(max(var)))\n",
    "print(\"Minimum value:\"+str(min(var)))\n"
   ]
  },
  {
   "cell_type": "code",
   "execution_count": 89,
   "metadata": {},
   "outputs": [
    {
     "name": "stdout",
     "output_type": "stream",
     "text": [
      "Enter array:\n",
      "['3', '2', '1', '2', '3', '4', '5']\n",
      "Second maximum: 4\n"
     ]
    }
   ],
   "source": [
    "# Q.17\n",
    "print(\"Enter array:\")\n",
    "var=input().split(\",\")\n",
    "print(var)\n",
    "temp=min(var)\n",
    "for i in range(0,len(var)):\n",
    "    if temp<var[i]:\n",
    "        if var[i] != max(var):\n",
    "            temp=var[i]\n",
    "print(\"Second maximum: \"+str(temp))"
   ]
  },
  {
   "cell_type": "code",
   "execution_count": 96,
   "metadata": {},
   "outputs": [
    {
     "name": "stdout",
     "output_type": "stream",
     "text": [
      "Enter array:\n",
      "['3', '2', '1', '2', '4', '5', '3']\n",
      "First maximum: 5\n",
      "Second maximum: 4\n"
     ]
    }
   ],
   "source": [
    "# Q.18\n",
    "print(\"Enter array:\")\n",
    "var=input().split(\",\")\n",
    "print(var)\n",
    "temp=min(var)\n",
    "for i in range(0,len(var)):\n",
    "    if temp<var[i]:\n",
    "        if var[i] != max(var):\n",
    "            temp=var[i]\n",
    "print(\"First maximum: \"+str(max(var)))            \n",
    "print(\"Second maximum: \"+str(temp))\n"
   ]
  },
  {
   "cell_type": "code",
   "execution_count": 98,
   "metadata": {},
   "outputs": [
    {
     "name": "stdout",
     "output_type": "stream",
     "text": [
      "Enter array:\n",
      "['3', '4', '5', '6', '4', '3', '5', '2', '2', '3']\n",
      "['6', '4', '2', '5', '3']\n"
     ]
    }
   ],
   "source": [
    "# Q.19\n",
    "print(\"Enter array:\")\n",
    "var=input().split(\",\")\n",
    "print(var)\n",
    "print(list(set(var)))"
   ]
  },
  {
   "cell_type": "code",
   "execution_count": null,
   "metadata": {},
   "outputs": [],
   "source": [
    "# Q.20\n",
    "print(\"Enter array:\")\n",
    "var=input().split(\",\")\n",
    "print(var)\n",
    "temp=min(var)\n",
    "for i in range(0,len(var)):\n",
    "    if temp<var[i]:\n",
    "        if var[i] != max(var):\n",
    "            temp=var[i]\n",
    "print(\"First maximum: \"+str(max(var)))            \n",
    "print(\"Second maximum: \"+str(temp))"
   ]
  },
  {
   "cell_type": "code",
   "execution_count": 100,
   "metadata": {},
   "outputs": [
    {
     "name": "stdout",
     "output_type": "stream",
     "text": [
      "Enter array:\n",
      "['1', '2', '3', '4', '5', '5']\n",
      "Array in reverse order:\n",
      "['5', '5', '4', '3', '2', '1']\n"
     ]
    }
   ],
   "source": [
    "# Q.21\n",
    "print(\"Enter array:\")\n",
    "var=input().split(\",\")\n",
    "print(var)\n",
    "print(\"Array in reverse order:\")\n",
    "print(var[::-1])\n"
   ]
  },
  {
   "cell_type": "code",
   "execution_count": 104,
   "metadata": {},
   "outputs": [
    {
     "name": "stdout",
     "output_type": "stream",
     "text": [
      "Enter array:\n",
      "['1', '2', '3', '4', '5', '6']\n",
      "Array in reverse order 1:\n",
      "['6', '5', '4', '3', '2', '1']\n",
      "Array in reverse order 2:\n",
      "[6, 5, 4, 3, 2, 1]\n"
     ]
    }
   ],
   "source": [
    "# Q.22\n",
    "print(\"Enter array:\")\n",
    "var=input().split(\",\")\n",
    "print(var)\n",
    "lst=[]\n",
    "print(\"Array in reverse order 1:\")\n",
    "print(var[::-1])\n",
    "print(\"Array in reverse order 2:\")\n",
    "for i in range(len(var),0,-1):\n",
    "    lst.append(i)\n",
    "print(lst)\n"
   ]
  },
  {
   "cell_type": "code",
   "execution_count": 105,
   "metadata": {},
   "outputs": [
    {
     "name": "stdout",
     "output_type": "stream",
     "text": [
      "Enter array:\n",
      "['1', '2', '3', '4', '5']\n",
      "length of array: 5\n"
     ]
    }
   ],
   "source": [
    "# Q.23\n",
    "print(\"Enter array:\")\n",
    "var=input().split(\",\")\n",
    "print(var)\n",
    "print(\"length of array: \" + str(len(var)))\n",
    "\n"
   ]
  },
  {
   "cell_type": "code",
   "execution_count": 121,
   "metadata": {},
   "outputs": [
    {
     "name": "stdout",
     "output_type": "stream",
     "text": [
      "Enter array:\n",
      "['1', '2', '3', '4', '5', '6']\n",
      "[1, 2, 3, 4, 5, 6]\n",
      "Enter element to insert: \n",
      "9\n",
      "[1, 2, 3, 4, 5, 6, 9]\n"
     ]
    }
   ],
   "source": [
    "# Q.24\n",
    "print(\"Enter array:\")\n",
    "var_str=input().split(\",\")\n",
    "var=[]\n",
    "print(var_str)\n",
    "for i in var_str:\n",
    "    var.append(int(i))\n",
    "print(var)\n",
    "print(\"Enter element to insert: \")\n",
    "var1=int(input())\n",
    "print(var1)\n",
    "var.append(var1)\n",
    "print(var)"
   ]
  }
 ],
 "metadata": {
  "kernelspec": {
   "display_name": "Python 3.9.5 64-bit",
   "language": "python",
   "name": "python3"
  },
  "language_info": {
   "codemirror_mode": {
    "name": "ipython",
    "version": 3
   },
   "file_extension": ".py",
   "mimetype": "text/x-python",
   "name": "python",
   "nbconvert_exporter": "python",
   "pygments_lexer": "ipython3",
   "version": "3.9.5"
  },
  "orig_nbformat": 4,
  "vscode": {
   "interpreter": {
    "hash": "aee8b7b246df8f9039afb4144a1f6fd8d2ca17a180786b69acc140d282b71a49"
   }
  }
 },
 "nbformat": 4,
 "nbformat_minor": 2
}
